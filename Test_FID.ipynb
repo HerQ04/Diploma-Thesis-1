{
 "cells": [
  {
   "cell_type": "code",
   "execution_count": 1,
   "metadata": {},
   "outputs": [],
   "source": [
    "import torch\n",
    "import numpy as np\n",
    "from torchvision import datasets, transforms\n",
    "from PIL import Image\n",
    "import os\n",
    "import torch"
   ]
  },
  {
   "cell_type": "code",
   "execution_count": null,
   "metadata": {},
   "outputs": [],
   "source": [
    "from dataclasses import dataclass\n",
    "\n",
    "\n",
    "@dataclass\n",
    "class TrainingConfig:\n",
    "    image_size = 32  # the generated image resolution\n",
    "    eval_batch_size = 5  # how many images to sample during evaluation\n",
    "    test_images_path = \"\"\n",
    "    mixed_precision = \"fp16\"\n",
    "    learning_rate = 1e-4\n",
    "    lr_warmup_steps = 500\n",
    "    gradient_accumulation_steps = 1\n",
    "\n",
    "    seed = 24\n",
    "config = TrainingConfig()"
   ]
  },
  {
   "cell_type": "markdown",
   "metadata": {},
   "source": [
    "# Preprocess images"
   ]
  },
  {
   "cell_type": "code",
   "execution_count": 3,
   "metadata": {},
   "outputs": [],
   "source": [
    "from torchvision import transforms\n",
    "\n",
    "preprocess = transforms.Compose([\n",
    "    transforms.Resize(config.image_size),\n",
    "    transforms.CenterCrop(config.image_size),\n",
    "    transforms.ToTensor(),\n",
    "])"
   ]
  },
  {
   "cell_type": "code",
   "execution_count": 4,
   "metadata": {},
   "outputs": [],
   "source": [
    "from PIL import Image\n",
    "import torch\n",
    "\n",
    "def preprocess_image(image):\n",
    "    image = torch.tensor(image).unsqueeze(0)\n",
    "    image = image.permute(0, 3, 1, 2) / 255.0\n",
    "    return image\n",
    "\n",
    "def read_images(dir_path):\n",
    "  image_paths = sorted([os.path.join(dir_path, x) for x in os.listdir(dir_path)])\n",
    "  real_images = [np.array(Image.open(path).convert(\"RGB\")) for path in image_paths]\n",
    "  real_images = torch.cat([preprocess_image(image) for image in real_images])\n",
    "  return real_images"
   ]
  },
  {
   "cell_type": "markdown",
   "metadata": {},
   "source": [
    "# Compare images"
   ]
  },
  {
   "cell_type": "code",
   "execution_count": 5,
   "metadata": {},
   "outputs": [],
   "source": [
    "from torchmetrics.image.fid import FrechetInceptionDistance\n",
    "from torch.utils.data import DataLoader\n",
    "from tqdm import tqdm\n",
    "import pandas as pd\n",
    "from tqdm import tqdm"
   ]
  },
  {
   "cell_type": "code",
   "execution_count": null,
   "metadata": {},
   "outputs": [],
   "source": [
    "fid_results = []\n",
    "\n",
    "#Calculate fid for every saved model epoch (every 50th epoch in my case)\n",
    "for i in range(50, 1951, 100):\n",
    "    # Load the images\n",
    "    generated_images = read_images(f\"CIFAR10AT/{i}epoch\") \n",
    "    val_images = read_images(config.test_images_path)\n",
    "    \n",
    "    # Create data loaders\n",
    "    generated_loader = DataLoader(generated_images, batch_size=config.eval_batch_size, shuffle=False)\n",
    "    val_loader = DataLoader(val_images, batch_size=config.eval_batch_size, shuffle=False)\n",
    "\n",
    "    # Initialize FID calculation\n",
    "    fid = FrechetInceptionDistance(normalize=True)\n",
    "    \n",
    "    # Determine the number of batches\n",
    "    num_batches = min(len(generated_loader), len(val_loader))\n",
    "\n",
    "    # Calculate FID\n",
    "    with tqdm(total=num_batches, desc=\"Calculating FID\", unit=\"batch\") as pbar:\n",
    "        for batch1, batch2 in zip(generated_loader, val_loader):\n",
    "            fid.update(batch2, real=True)  # Real images\n",
    "            fid.update(batch1, real=False)  # Generated images\n",
    "            pbar.update(1)  # Update progress bar\n",
    "\n",
    "    # Compute FID value\n",
    "    temp = float(fid.compute())\n",
    "    print(f\"FID for i={i}: {temp}\")\n",
    "\n",
    "    # Append the result to the list\n",
    "    fid_results.append({'i': i, 'FID': temp})\n",
    "\n",
    "# Save results to a CSV file\n",
    "results_df = pd.DataFrame(fid_results)\n",
    "results_df.to_csv('result.csv', index=False)"
   ]
  },
  {
   "cell_type": "code",
   "execution_count": null,
   "metadata": {},
   "outputs": [],
   "source": [
    "generated_images=read_images(config.generated_images_path)\n",
    "val_images=read_images(config.test_images_path)\n",
    "\n",
    "generated_loader = DataLoader(generated_images, batch_size=config.eval_batch_size, shuffle=False)\n",
    "val_loader = DataLoader(val_images, batch_size=config.eval_batch_size, shuffle=False)\n",
    "\n",
    "fid = FrechetInceptionDistance(normalize=True)\n",
    "\n",
    "num_batches = min(len(generated_loader), len(val_loader))\n",
    "\n",
    "with tqdm(total=num_batches, desc=\"Calculating FID\", unit=\"batch\") as pbar:\n",
    "    for batch1, batch2 in zip(generated_loader, val_loader):\n",
    "        fid.update(batch2, real=True)  # Real images\n",
    "        fid.update(batch1, real=False)  # Generated images\n",
    "        pbar.update(1)  # Update progress bar\n",
    "\n",
    "temp=float(fid.compute())\n",
    "print(f\"FID: {temp}\")"
   ]
  },
  {
   "cell_type": "code",
   "execution_count": null,
   "metadata": {},
   "outputs": [],
   "source": []
  }
 ],
 "metadata": {
  "kernelspec": {
   "display_name": "Python 3 (ipykernel) CUDA_VISIBLE_DEVICES=1",
   "language": "python",
   "name": "python3"
  },
  "language_info": {
   "codemirror_mode": {
    "name": "ipython",
    "version": 3
   },
   "file_extension": ".py",
   "mimetype": "text/x-python",
   "name": "python",
   "nbconvert_exporter": "python",
   "pygments_lexer": "ipython3",
   "version": "3.7.11"
  }
 },
 "nbformat": 4,
 "nbformat_minor": 2
}
