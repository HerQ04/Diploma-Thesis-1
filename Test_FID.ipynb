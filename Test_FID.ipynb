{
 "cells": [
  {
   "cell_type": "code",
   "execution_count": 1,
   "metadata": {},
   "outputs": [],
   "source": [
    "import torch\n",
    "import numpy as np\n",
    "from torchvision import datasets, transforms\n",
    "from PIL import Image\n",
    "import os\n",
    "import torch"
   ]
  },
  {
   "cell_type": "code",
   "execution_count": 2,
   "metadata": {},
   "outputs": [],
   "source": [
    "from dataclasses import dataclass\n",
    "\n",
    "\n",
    "@dataclass\n",
    "class TrainingConfig:\n",
    "    image_size = 64  # the generated image resolution\n",
    "    eval_batch_size = 32  # how many images to sample during evaluation\n",
    "    generated_images_path = \"\"\n",
    "    test_images_path = \"\"\n",
    "    mixed_precision = \"fp16\"\n",
    "    learning_rate = 1e-4\n",
    "    lr_warmup_steps = 500\n",
    "    gradient_accumulation_steps = 1\n",
    "\n",
    "    seed = 24\n",
    "config = TrainingConfig()"
   ]
  },
  {
   "cell_type": "markdown",
   "metadata": {},
   "source": [
    "# Preprocess images"
   ]
  },
  {
   "cell_type": "code",
   "execution_count": 3,
   "metadata": {},
   "outputs": [],
   "source": [
    "from torchvision import transforms\n",
    "\n",
    "preprocess = transforms.Compose([\n",
    "    transforms.Resize(config.image_size),\n",
    "    transforms.CenterCrop(config.image_size),\n",
    "    transforms.ToTensor(),\n",
    "])"
   ]
  },
  {
   "cell_type": "code",
   "execution_count": 4,
   "metadata": {},
   "outputs": [],
   "source": [
    "from PIL import Image\n",
    "import torch\n",
    "\n",
    "def preprocess_image(image):\n",
    "    image = torch.tensor(image).unsqueeze(0)\n",
    "    image = image.permute(0, 3, 1, 2) / 255.0\n",
    "    return image\n",
    "\n",
    "def read_images(dir_path):\n",
    "  image_paths = sorted([os.path.join(dir_path, x) for x in os.listdir(dir_path)])\n",
    "  real_images = [np.array(Image.open(path).convert(\"RGB\")) for path in image_paths]\n",
    "  real_images = torch.cat([preprocess_image(image) for image in real_images])\n",
    "  return real_images"
   ]
  },
  {
   "cell_type": "markdown",
   "metadata": {},
   "source": [
    "# Compare images"
   ]
  },
  {
   "cell_type": "code",
   "execution_count": 5,
   "metadata": {},
   "outputs": [],
   "source": [
    "generated_images=read_images(config.generated_images_path)\n",
    "val_images=read_images(config.test_images_path)"
   ]
  },
  {
   "cell_type": "code",
   "execution_count": null,
   "metadata": {},
   "outputs": [],
   "source": [
    "from torchmetrics.image.fid import FrechetInceptionDistance\n",
    "from torch.utils.data import DataLoader\n",
    "\n",
    "generated_loader = DataLoader(generated_images, batch_size=config.eval_batch_size, shuffle=False)\n",
    "val_loader = DataLoader(val_images, batch_size=config.eval_batch_size, shuffle=False)\n",
    "\n",
    "fid = FrechetInceptionDistance(normalize=True)\n",
    "\n",
    "for batch1, batch2 in zip(generated_loader, val_loader):\n",
    "    fid.update(batch2, real=True)\n",
    "    fid.update(batch1, real=False)\n",
    "\n",
    "print(f\"FID: {float(fid.compute())}\")"
   ]
  }
 ],
 "metadata": {
  "kernelspec": {
   "display_name": "Python 3 (ipykernel) CUDA_VISIBLE_DEVICES=1",
   "language": "python",
   "name": "python3"
  },
  "language_info": {
   "codemirror_mode": {
    "name": "ipython",
    "version": 3
   },
   "file_extension": ".py",
   "mimetype": "text/x-python",
   "name": "python",
   "nbconvert_exporter": "python",
   "pygments_lexer": "ipython3",
   "version": "3.7.11"
  }
 },
 "nbformat": 4,
 "nbformat_minor": 2
}
