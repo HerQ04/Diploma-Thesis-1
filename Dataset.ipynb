{
 "cells": [
  {
   "cell_type": "code",
   "execution_count": null,
   "metadata": {
    "id": "itMFhA8OigIK"
   },
   "outputs": [],
   "source": [
    "import torch\n",
    "import torchvision\n",
    "import numpy as np\n",
    "import torch.nn as nn\n",
    "import torch.nn.functional as F\n",
    "from torchvision.transforms import ToTensor\n",
    "from torchvision.utils import make_grid\n",
    "from torch.utils.data.dataloader import DataLoader\n",
    "from torch.utils.data import random_split\n",
    "from torchvision import datasets, transforms\n"
   ]
  },
  {
   "cell_type": "code",
   "execution_count": null,
   "metadata": {
    "id": "aXpHgLTyyM0-"
   },
   "outputs": [],
   "source": [
    "transform = transforms.Compose([\n",
    "    transforms.Resize(64),\n",
    "    transforms.CenterCrop(64),\n",
    "    transforms.ToTensor(),\n",
    "])"
   ]
  },
  {
   "cell_type": "code",
   "execution_count": null,
   "metadata": {
    "colab": {
     "base_uri": "https://localhost:8080/"
    },
    "id": "btdkDAPnziXZ",
    "outputId": "6ae2e711-3896-4e0c-ff60-00d932f869e5"
   },
   "outputs": [],
   "source": [
    "datasetFlower = datasets.Flowers102(root='/workspace/datasetflowers', download=True, split =\"train\", transform=transform)\n",
    "datasetFlowerval = datasets.Flowers102(root='/workspace/datasetflowers', download=True, split =\"val\", transform=transform)\n",
    "datasetFlowertest = datasets.Flowers102(root='/workspace/datasetflowers', download=True, split =\"test\", transform=transform)\n",
    "datasetCIFAR10 = datasets.CIFAR10(root='/workspace/datasetcifar10train', train=True, download=True, transform=transform)\n",
    "datasetCIFAR10test = datasets.CIFAR10(root='/workspace/datasetcifar10test', train=False, download=True, transform=transform)"
   ]
  },
  {
   "cell_type": "code",
   "execution_count": null,
   "metadata": {
    "colab": {
     "base_uri": "https://localhost:8080/"
    },
    "id": "oj59xqTR2jUD",
    "outputId": "f8d6c21b-f59a-4033-cd95-525587975dce"
   },
   "outputs": [],
   "source": [
    "datasetFlower"
   ]
  },
  {
   "cell_type": "code",
   "execution_count": null,
   "metadata": {
    "colab": {
     "base_uri": "https://localhost:8080/"
    },
    "id": "rZ3HRXxrij_p",
    "outputId": "dd09aee9-85f5-46b6-a9dd-88850af17635"
   },
   "outputs": [],
   "source": [
    "datasetCIFAR10test"
   ]
  },
  {
   "cell_type": "code",
   "execution_count": null,
   "metadata": {
    "colab": {
     "base_uri": "https://localhost:8080/"
    },
    "id": "EGbOCpkBikEJ",
    "outputId": "77526525-b401-416b-fbc5-8285ef2a04e3"
   },
   "outputs": [],
   "source": [
    "classes = datasetCIFAR10.classes\n",
    "classes"
   ]
  }
 ],
 "metadata": {
  "colab": {
   "provenance": []
  },
  "kernelspec": {
   "display_name": "Python 3 (ipykernel)",
   "language": "python",
   "name": "python3"
  },
  "language_info": {
   "codemirror_mode": {
    "name": "ipython",
    "version": 3
   },
   "file_extension": ".py",
   "mimetype": "text/x-python",
   "name": "python",
   "nbconvert_exporter": "python",
   "pygments_lexer": "ipython3",
   "version": "3.7.11"
  }
 },
 "nbformat": 4,
 "nbformat_minor": 1
}
